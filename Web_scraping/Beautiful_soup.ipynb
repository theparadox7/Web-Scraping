{
 "cells": [
  {
   "cell_type": "code",
   "execution_count": 2,
   "id": "b815c518-6b28-4303-a064-73f0539e1a5d",
   "metadata": {},
   "outputs": [],
   "source": [
    "from bs4 import BeautifulSoup\n",
    "import requests\n",
    "import pandas as pd"
   ]
  },
  {
   "cell_type": "code",
   "execution_count": 3,
   "id": "d35d7868-3ba3-4e41-915c-206af73e84fb",
   "metadata": {},
   "outputs": [],
   "source": [
    "\n",
    "website = 'http://books.toscrape.com/catalogue/category/books/mystery_3/index.html'\n",
    "\n"
   ]
  },
  {
   "cell_type": "code",
   "execution_count": 4,
   "id": "470d956c-de0a-4550-9685-fb6a0be8edba",
   "metadata": {},
   "outputs": [],
   "source": [
    "#get requests\n",
    "response = requests.get(website)"
   ]
  },
  {
   "cell_type": "code",
   "execution_count": 5,
   "id": "6f510d2a-7136-40fe-afc6-3b322cdcda67",
   "metadata": {},
   "outputs": [
    {
     "data": {
      "text/plain": [
       "200"
      ]
     },
     "execution_count": 5,
     "metadata": {},
     "output_type": "execute_result"
    }
   ],
   "source": [
    "#status\n",
    "response.status_code"
   ]
  },
  {
   "cell_type": "code",
   "execution_count": 6,
   "id": "44120a0c-2ee0-4df7-b53f-431ed47b5875",
   "metadata": {},
   "outputs": [],
   "source": [
    "#soup objects\n",
    "soup = BeautifulSoup(response.content,'html.parser')"
   ]
  },
  {
   "cell_type": "code",
   "execution_count": 7,
   "id": "4c02c9af-64ea-4aa1-becf-567c705540cf",
   "metadata": {},
   "outputs": [],
   "source": [
    "#results\n",
    "results = soup.find_all('li', class_='col-xs-6 col-sm-4 col-md-3 col-lg-3')\n",
    "\n"
   ]
  },
  {
   "cell_type": "code",
   "execution_count": 8,
   "id": "cddc78b3-8560-48d8-80ef-6b74fee24647",
   "metadata": {},
   "outputs": [
    {
     "data": {
      "text/plain": [
       "20"
      ]
     },
     "execution_count": 8,
     "metadata": {},
     "output_type": "execute_result"
    }
   ],
   "source": [
    "len(results)"
   ]
  },
  {
   "cell_type": "code",
   "execution_count": 9,
   "id": "596d77d5-8bb3-4bb2-84d7-05114a1fa11b",
   "metadata": {},
   "outputs": [
    {
     "data": {
      "text/plain": [
       "<li class=\"col-xs-6 col-sm-4 col-md-3 col-lg-3\">\n",
       "<article class=\"product_pod\">\n",
       "<div class=\"image_container\">\n",
       "<a href=\"../../../sharp-objects_997/index.html\"><img alt=\"Sharp Objects\" class=\"thumbnail\" src=\"../../../../media/cache/32/51/3251cf3a3412f53f339e42cac2134093.jpg\"/></a>\n",
       "</div>\n",
       "<p class=\"star-rating Four\">\n",
       "<i class=\"icon-star\"></i>\n",
       "<i class=\"icon-star\"></i>\n",
       "<i class=\"icon-star\"></i>\n",
       "<i class=\"icon-star\"></i>\n",
       "<i class=\"icon-star\"></i>\n",
       "</p>\n",
       "<h3><a href=\"../../../sharp-objects_997/index.html\" title=\"Sharp Objects\">Sharp Objects</a></h3>\n",
       "<div class=\"product_price\">\n",
       "<p class=\"price_color\">£47.82</p>\n",
       "<p class=\"instock availability\">\n",
       "<i class=\"icon-ok\"></i>\n",
       "    \n",
       "        In stock\n",
       "    \n",
       "</p>\n",
       "<form>\n",
       "<button class=\"btn btn-primary btn-block\" data-loading-text=\"Adding...\" type=\"submit\">Add to basket</button>\n",
       "</form>\n",
       "</div>\n",
       "</article>\n",
       "</li>"
      ]
     },
     "execution_count": 9,
     "metadata": {},
     "output_type": "execute_result"
    }
   ],
   "source": [
    "results[0]\n",
    "\n"
   ]
  },
  {
   "cell_type": "code",
   "execution_count": 10,
   "id": "9793fa4a-6d13-4908-a69f-73aea91a4f15",
   "metadata": {},
   "outputs": [],
   "source": [
    "#necessary data\n",
    "#name\n",
    "#price\n",
    "#instock availability"
   ]
  },
  {
   "cell_type": "code",
   "execution_count": 11,
   "id": "051b8af7-df4b-49db-9535-4e0984fd3d29",
   "metadata": {},
   "outputs": [
    {
     "data": {
      "text/plain": [
       "'Sharp Objects'"
      ]
     },
     "execution_count": 11,
     "metadata": {},
     "output_type": "execute_result"
    }
   ],
   "source": [
    "# name\n",
    "results[0].find('h3').get_text()\n"
   ]
  },
  {
   "cell_type": "code",
   "execution_count": 12,
   "id": "46b8055a-e2cf-4507-b61b-d23fdf2d2150",
   "metadata": {},
   "outputs": [
    {
     "data": {
      "text/plain": [
       "'£47.82'"
      ]
     },
     "execution_count": 12,
     "metadata": {},
     "output_type": "execute_result"
    }
   ],
   "source": [
    "# price\n",
    "results[0].find('p',{'class':'price_color'}).get_text()"
   ]
  },
  {
   "cell_type": "code",
   "execution_count": 13,
   "id": "1bef19f6-2c1f-496e-92a4-9cacf3074b4f",
   "metadata": {},
   "outputs": [
    {
     "data": {
      "text/plain": [
       "'\\n\\n    \\n        In stock\\n    \\n'"
      ]
     },
     "execution_count": 13,
     "metadata": {},
     "output_type": "execute_result"
    }
   ],
   "source": [
    "# instock availability\n",
    "results[0].find('p',{'class':'instock availability'}).get_text()"
   ]
  },
  {
   "cell_type": "code",
   "execution_count": 15,
   "id": "57552a6b-9a19-416d-816d-d8de5c96a42b",
   "metadata": {},
   "outputs": [
    {
     "data": {
      "text/plain": [
       "<i class=\"icon-star\"></i>"
      ]
     },
     "execution_count": 15,
     "metadata": {},
     "output_type": "execute_result"
    }
   ],
   "source": [
    "results[0].find('i',{'class':'icon-star'})"
   ]
  },
  {
   "cell_type": "code",
   "execution_count": 22,
   "id": "14b1fa8c-1d53-41df-8b4e-c77d6a9304a8",
   "metadata": {},
   "outputs": [],
   "source": [
    "#put all together\n",
    "name =[]\n",
    "price =[]\n",
    "instock = []\n",
    "\n",
    "\n",
    "for result in results :\n",
    "    #name\n",
    "    try:\n",
    "        name.append(result.find('h3').get_text())\n",
    "    except:\n",
    "        name.append('n/a')\n",
    "\n",
    "    #price\n",
    "    try:\n",
    "        price.append(result.find('p',{'class':'price_color'}).get_text())\n",
    "    except:\n",
    "        price.append('n/a')\n",
    "\n",
    "    #instock\n",
    "    try:\n",
    "        instock.append(result.find('p',{'class':'instock availability'}).get_text())\n",
    "    except:\n",
    "        instock.append('n/a')\n",
    "    "
   ]
  },
  {
   "cell_type": "code",
   "execution_count": 20,
   "id": "65552585-9e4d-457f-9dc8-5557ab5fd3fa",
   "metadata": {},
   "outputs": [
    {
     "data": {
      "text/plain": [
       "['Sharp Objects',\n",
       " 'In a Dark, Dark ...',\n",
       " 'The Past Never Ends',\n",
       " 'A Murder in Time',\n",
       " 'The Murder of Roger ...',\n",
       " 'The Last Mile (Amos ...',\n",
       " 'That Darkness (Gardiner and ...',\n",
       " 'Tastes Like Fear (DI ...',\n",
       " 'A Time of Torment ...',\n",
       " 'A Study in Scarlet ...',\n",
       " 'Poisonous (Max Revere Novels ...',\n",
       " 'Murder at the 42nd ...',\n",
       " 'Most Wanted',\n",
       " 'Hide Away (Eve Duncan ...',\n",
       " 'Boar Island (Anna Pigeon ...',\n",
       " 'The Widow',\n",
       " 'Playing with Fire',\n",
       " 'What Happened on Beale ...',\n",
       " \"The Bachelor Girl's Guide ...\",\n",
       " 'Delivering the Truth (Quaker ...']"
      ]
     },
     "execution_count": 20,
     "metadata": {},
     "output_type": "execute_result"
    }
   ],
   "source": [
    "name"
   ]
  },
  {
   "cell_type": "code",
   "execution_count": 24,
   "id": "fd9d8d49-a121-4ad4-96eb-4e530f5c6192",
   "metadata": {},
   "outputs": [
    {
     "data": {
      "text/plain": [
       "20"
      ]
     },
     "execution_count": 24,
     "metadata": {},
     "output_type": "execute_result"
    }
   ],
   "source": [
    "\n",
    "len(price)\n"
   ]
  },
  {
   "cell_type": "code",
   "execution_count": 25,
   "id": "a2cf7ee2-3661-4810-8194-a25ba911f50d",
   "metadata": {},
   "outputs": [
    {
     "data": {
      "text/plain": [
       "['£47.82',\n",
       " '£19.63',\n",
       " '£56.50',\n",
       " '£16.64',\n",
       " '£44.10',\n",
       " '£54.21',\n",
       " '£13.92',\n",
       " '£10.69',\n",
       " '£48.35',\n",
       " '£16.73',\n",
       " '£26.80',\n",
       " '£54.36',\n",
       " '£35.28',\n",
       " '£11.84',\n",
       " '£59.48',\n",
       " '£27.26',\n",
       " '£13.71',\n",
       " '£25.37',\n",
       " '£52.30',\n",
       " '£20.89']"
      ]
     },
     "execution_count": 25,
     "metadata": {},
     "output_type": "execute_result"
    }
   ],
   "source": [
    "price"
   ]
  },
  {
   "cell_type": "code",
   "execution_count": 28,
   "id": "42a76ff9-1247-4459-bf48-b9154c9726aa",
   "metadata": {},
   "outputs": [],
   "source": [
    "#pandas df\n",
    "book = pd.DataFrame({'Name': name, 'Price':price, 'Instock':instock})"
   ]
  },
  {
   "cell_type": "code",
   "execution_count": 29,
   "id": "757ae4fe-2095-4e11-ad48-6210f1949089",
   "metadata": {},
   "outputs": [
    {
     "data": {
      "text/html": [
       "<div>\n",
       "<style scoped>\n",
       "    .dataframe tbody tr th:only-of-type {\n",
       "        vertical-align: middle;\n",
       "    }\n",
       "\n",
       "    .dataframe tbody tr th {\n",
       "        vertical-align: top;\n",
       "    }\n",
       "\n",
       "    .dataframe thead th {\n",
       "        text-align: right;\n",
       "    }\n",
       "</style>\n",
       "<table border=\"1\" class=\"dataframe\">\n",
       "  <thead>\n",
       "    <tr style=\"text-align: right;\">\n",
       "      <th></th>\n",
       "      <th>Name</th>\n",
       "      <th>Price</th>\n",
       "      <th>Instock</th>\n",
       "    </tr>\n",
       "  </thead>\n",
       "  <tbody>\n",
       "    <tr>\n",
       "      <th>0</th>\n",
       "      <td>Sharp Objects</td>\n",
       "      <td>£47.82</td>\n",
       "      <td>\\n\\n    \\n        In stock\\n    \\n</td>\n",
       "    </tr>\n",
       "    <tr>\n",
       "      <th>1</th>\n",
       "      <td>In a Dark, Dark ...</td>\n",
       "      <td>£19.63</td>\n",
       "      <td>\\n\\n    \\n        In stock\\n    \\n</td>\n",
       "    </tr>\n",
       "    <tr>\n",
       "      <th>2</th>\n",
       "      <td>The Past Never Ends</td>\n",
       "      <td>£56.50</td>\n",
       "      <td>\\n\\n    \\n        In stock\\n    \\n</td>\n",
       "    </tr>\n",
       "    <tr>\n",
       "      <th>3</th>\n",
       "      <td>A Murder in Time</td>\n",
       "      <td>£16.64</td>\n",
       "      <td>\\n\\n    \\n        In stock\\n    \\n</td>\n",
       "    </tr>\n",
       "    <tr>\n",
       "      <th>4</th>\n",
       "      <td>The Murder of Roger ...</td>\n",
       "      <td>£44.10</td>\n",
       "      <td>\\n\\n    \\n        In stock\\n    \\n</td>\n",
       "    </tr>\n",
       "    <tr>\n",
       "      <th>5</th>\n",
       "      <td>The Last Mile (Amos ...</td>\n",
       "      <td>£54.21</td>\n",
       "      <td>\\n\\n    \\n        In stock\\n    \\n</td>\n",
       "    </tr>\n",
       "    <tr>\n",
       "      <th>6</th>\n",
       "      <td>That Darkness (Gardiner and ...</td>\n",
       "      <td>£13.92</td>\n",
       "      <td>\\n\\n    \\n        In stock\\n    \\n</td>\n",
       "    </tr>\n",
       "    <tr>\n",
       "      <th>7</th>\n",
       "      <td>Tastes Like Fear (DI ...</td>\n",
       "      <td>£10.69</td>\n",
       "      <td>\\n\\n    \\n        In stock\\n    \\n</td>\n",
       "    </tr>\n",
       "    <tr>\n",
       "      <th>8</th>\n",
       "      <td>A Time of Torment ...</td>\n",
       "      <td>£48.35</td>\n",
       "      <td>\\n\\n    \\n        In stock\\n    \\n</td>\n",
       "    </tr>\n",
       "    <tr>\n",
       "      <th>9</th>\n",
       "      <td>A Study in Scarlet ...</td>\n",
       "      <td>£16.73</td>\n",
       "      <td>\\n\\n    \\n        In stock\\n    \\n</td>\n",
       "    </tr>\n",
       "    <tr>\n",
       "      <th>10</th>\n",
       "      <td>Poisonous (Max Revere Novels ...</td>\n",
       "      <td>£26.80</td>\n",
       "      <td>\\n\\n    \\n        In stock\\n    \\n</td>\n",
       "    </tr>\n",
       "    <tr>\n",
       "      <th>11</th>\n",
       "      <td>Murder at the 42nd ...</td>\n",
       "      <td>£54.36</td>\n",
       "      <td>\\n\\n    \\n        In stock\\n    \\n</td>\n",
       "    </tr>\n",
       "    <tr>\n",
       "      <th>12</th>\n",
       "      <td>Most Wanted</td>\n",
       "      <td>£35.28</td>\n",
       "      <td>\\n\\n    \\n        In stock\\n    \\n</td>\n",
       "    </tr>\n",
       "    <tr>\n",
       "      <th>13</th>\n",
       "      <td>Hide Away (Eve Duncan ...</td>\n",
       "      <td>£11.84</td>\n",
       "      <td>\\n\\n    \\n        In stock\\n    \\n</td>\n",
       "    </tr>\n",
       "    <tr>\n",
       "      <th>14</th>\n",
       "      <td>Boar Island (Anna Pigeon ...</td>\n",
       "      <td>£59.48</td>\n",
       "      <td>\\n\\n    \\n        In stock\\n    \\n</td>\n",
       "    </tr>\n",
       "    <tr>\n",
       "      <th>15</th>\n",
       "      <td>The Widow</td>\n",
       "      <td>£27.26</td>\n",
       "      <td>\\n\\n    \\n        In stock\\n    \\n</td>\n",
       "    </tr>\n",
       "    <tr>\n",
       "      <th>16</th>\n",
       "      <td>Playing with Fire</td>\n",
       "      <td>£13.71</td>\n",
       "      <td>\\n\\n    \\n        In stock\\n    \\n</td>\n",
       "    </tr>\n",
       "    <tr>\n",
       "      <th>17</th>\n",
       "      <td>What Happened on Beale ...</td>\n",
       "      <td>£25.37</td>\n",
       "      <td>\\n\\n    \\n        In stock\\n    \\n</td>\n",
       "    </tr>\n",
       "    <tr>\n",
       "      <th>18</th>\n",
       "      <td>The Bachelor Girl's Guide ...</td>\n",
       "      <td>£52.30</td>\n",
       "      <td>\\n\\n    \\n        In stock\\n    \\n</td>\n",
       "    </tr>\n",
       "    <tr>\n",
       "      <th>19</th>\n",
       "      <td>Delivering the Truth (Quaker ...</td>\n",
       "      <td>£20.89</td>\n",
       "      <td>\\n\\n    \\n        In stock\\n    \\n</td>\n",
       "    </tr>\n",
       "  </tbody>\n",
       "</table>\n",
       "</div>"
      ],
      "text/plain": [
       "                                Name   Price  \\\n",
       "0                      Sharp Objects  £47.82   \n",
       "1                In a Dark, Dark ...  £19.63   \n",
       "2                The Past Never Ends  £56.50   \n",
       "3                   A Murder in Time  £16.64   \n",
       "4            The Murder of Roger ...  £44.10   \n",
       "5            The Last Mile (Amos ...  £54.21   \n",
       "6    That Darkness (Gardiner and ...  £13.92   \n",
       "7           Tastes Like Fear (DI ...  £10.69   \n",
       "8              A Time of Torment ...  £48.35   \n",
       "9             A Study in Scarlet ...  £16.73   \n",
       "10  Poisonous (Max Revere Novels ...  £26.80   \n",
       "11            Murder at the 42nd ...  £54.36   \n",
       "12                       Most Wanted  £35.28   \n",
       "13         Hide Away (Eve Duncan ...  £11.84   \n",
       "14      Boar Island (Anna Pigeon ...  £59.48   \n",
       "15                         The Widow  £27.26   \n",
       "16                 Playing with Fire  £13.71   \n",
       "17        What Happened on Beale ...  £25.37   \n",
       "18     The Bachelor Girl's Guide ...  £52.30   \n",
       "19  Delivering the Truth (Quaker ...  £20.89   \n",
       "\n",
       "                               Instock  \n",
       "0   \\n\\n    \\n        In stock\\n    \\n  \n",
       "1   \\n\\n    \\n        In stock\\n    \\n  \n",
       "2   \\n\\n    \\n        In stock\\n    \\n  \n",
       "3   \\n\\n    \\n        In stock\\n    \\n  \n",
       "4   \\n\\n    \\n        In stock\\n    \\n  \n",
       "5   \\n\\n    \\n        In stock\\n    \\n  \n",
       "6   \\n\\n    \\n        In stock\\n    \\n  \n",
       "7   \\n\\n    \\n        In stock\\n    \\n  \n",
       "8   \\n\\n    \\n        In stock\\n    \\n  \n",
       "9   \\n\\n    \\n        In stock\\n    \\n  \n",
       "10  \\n\\n    \\n        In stock\\n    \\n  \n",
       "11  \\n\\n    \\n        In stock\\n    \\n  \n",
       "12  \\n\\n    \\n        In stock\\n    \\n  \n",
       "13  \\n\\n    \\n        In stock\\n    \\n  \n",
       "14  \\n\\n    \\n        In stock\\n    \\n  \n",
       "15  \\n\\n    \\n        In stock\\n    \\n  \n",
       "16  \\n\\n    \\n        In stock\\n    \\n  \n",
       "17  \\n\\n    \\n        In stock\\n    \\n  \n",
       "18  \\n\\n    \\n        In stock\\n    \\n  \n",
       "19  \\n\\n    \\n        In stock\\n    \\n  "
      ]
     },
     "execution_count": 29,
     "metadata": {},
     "output_type": "execute_result"
    }
   ],
   "source": [
    "book"
   ]
  },
  {
   "cell_type": "markdown",
   "id": "6d20de26-a15b-4eb3-9ad6-65df69b14527",
   "metadata": {},
   "source": [
    "Data cleaning"
   ]
  },
  {
   "cell_type": "code",
   "execution_count": 39,
   "id": "764825fd-3e43-48a1-8d7d-380902e26881",
   "metadata": {},
   "outputs": [],
   "source": [
    "book['Instock'] = book['Instock'].apply(lambda x:x.strip('\\n'))"
   ]
  },
  {
   "cell_type": "code",
   "execution_count": 40,
   "id": "26f0f89c-e8c1-46ad-89bc-ac1b2a957abe",
   "metadata": {},
   "outputs": [],
   "source": [
    "book['Name'] = book['Name'].apply(lambda x:x.strip('..'))"
   ]
  },
  {
   "cell_type": "code",
   "execution_count": 41,
   "id": "10d94f0b-25ec-4ffa-9c30-b27cbe2ecc2a",
   "metadata": {},
   "outputs": [
    {
     "data": {
      "text/html": [
       "<div>\n",
       "<style scoped>\n",
       "    .dataframe tbody tr th:only-of-type {\n",
       "        vertical-align: middle;\n",
       "    }\n",
       "\n",
       "    .dataframe tbody tr th {\n",
       "        vertical-align: top;\n",
       "    }\n",
       "\n",
       "    .dataframe thead th {\n",
       "        text-align: right;\n",
       "    }\n",
       "</style>\n",
       "<table border=\"1\" class=\"dataframe\">\n",
       "  <thead>\n",
       "    <tr style=\"text-align: right;\">\n",
       "      <th></th>\n",
       "      <th>Name</th>\n",
       "      <th>Price</th>\n",
       "      <th>Instock</th>\n",
       "    </tr>\n",
       "  </thead>\n",
       "  <tbody>\n",
       "    <tr>\n",
       "      <th>0</th>\n",
       "      <td>Sharp Objects</td>\n",
       "      <td>£47.82</td>\n",
       "      <td>\\n        In stock\\n</td>\n",
       "    </tr>\n",
       "    <tr>\n",
       "      <th>1</th>\n",
       "      <td>In a Dark, Dark</td>\n",
       "      <td>£19.63</td>\n",
       "      <td>\\n        In stock\\n</td>\n",
       "    </tr>\n",
       "    <tr>\n",
       "      <th>2</th>\n",
       "      <td>The Past Never Ends</td>\n",
       "      <td>£56.50</td>\n",
       "      <td>\\n        In stock\\n</td>\n",
       "    </tr>\n",
       "    <tr>\n",
       "      <th>3</th>\n",
       "      <td>A Murder in Time</td>\n",
       "      <td>£16.64</td>\n",
       "      <td>\\n        In stock\\n</td>\n",
       "    </tr>\n",
       "    <tr>\n",
       "      <th>4</th>\n",
       "      <td>The Murder of Roger</td>\n",
       "      <td>£44.10</td>\n",
       "      <td>\\n        In stock\\n</td>\n",
       "    </tr>\n",
       "    <tr>\n",
       "      <th>5</th>\n",
       "      <td>The Last Mile (Amos</td>\n",
       "      <td>£54.21</td>\n",
       "      <td>\\n        In stock\\n</td>\n",
       "    </tr>\n",
       "    <tr>\n",
       "      <th>6</th>\n",
       "      <td>That Darkness (Gardiner and</td>\n",
       "      <td>£13.92</td>\n",
       "      <td>\\n        In stock\\n</td>\n",
       "    </tr>\n",
       "    <tr>\n",
       "      <th>7</th>\n",
       "      <td>Tastes Like Fear (DI</td>\n",
       "      <td>£10.69</td>\n",
       "      <td>\\n        In stock\\n</td>\n",
       "    </tr>\n",
       "    <tr>\n",
       "      <th>8</th>\n",
       "      <td>A Time of Torment</td>\n",
       "      <td>£48.35</td>\n",
       "      <td>\\n        In stock\\n</td>\n",
       "    </tr>\n",
       "    <tr>\n",
       "      <th>9</th>\n",
       "      <td>A Study in Scarlet</td>\n",
       "      <td>£16.73</td>\n",
       "      <td>\\n        In stock\\n</td>\n",
       "    </tr>\n",
       "    <tr>\n",
       "      <th>10</th>\n",
       "      <td>Poisonous (Max Revere Novels</td>\n",
       "      <td>£26.80</td>\n",
       "      <td>\\n        In stock\\n</td>\n",
       "    </tr>\n",
       "    <tr>\n",
       "      <th>11</th>\n",
       "      <td>Murder at the 42nd</td>\n",
       "      <td>£54.36</td>\n",
       "      <td>\\n        In stock\\n</td>\n",
       "    </tr>\n",
       "    <tr>\n",
       "      <th>12</th>\n",
       "      <td>Most Wanted</td>\n",
       "      <td>£35.28</td>\n",
       "      <td>\\n        In stock\\n</td>\n",
       "    </tr>\n",
       "    <tr>\n",
       "      <th>13</th>\n",
       "      <td>Hide Away (Eve Duncan</td>\n",
       "      <td>£11.84</td>\n",
       "      <td>\\n        In stock\\n</td>\n",
       "    </tr>\n",
       "    <tr>\n",
       "      <th>14</th>\n",
       "      <td>Boar Island (Anna Pigeon</td>\n",
       "      <td>£59.48</td>\n",
       "      <td>\\n        In stock\\n</td>\n",
       "    </tr>\n",
       "    <tr>\n",
       "      <th>15</th>\n",
       "      <td>The Widow</td>\n",
       "      <td>£27.26</td>\n",
       "      <td>\\n        In stock\\n</td>\n",
       "    </tr>\n",
       "    <tr>\n",
       "      <th>16</th>\n",
       "      <td>Playing with Fire</td>\n",
       "      <td>£13.71</td>\n",
       "      <td>\\n        In stock\\n</td>\n",
       "    </tr>\n",
       "    <tr>\n",
       "      <th>17</th>\n",
       "      <td>What Happened on Beale</td>\n",
       "      <td>£25.37</td>\n",
       "      <td>\\n        In stock\\n</td>\n",
       "    </tr>\n",
       "    <tr>\n",
       "      <th>18</th>\n",
       "      <td>The Bachelor Girl's Guide</td>\n",
       "      <td>£52.30</td>\n",
       "      <td>\\n        In stock\\n</td>\n",
       "    </tr>\n",
       "    <tr>\n",
       "      <th>19</th>\n",
       "      <td>Delivering the Truth (Quaker</td>\n",
       "      <td>£20.89</td>\n",
       "      <td>\\n        In stock\\n</td>\n",
       "    </tr>\n",
       "  </tbody>\n",
       "</table>\n",
       "</div>"
      ],
      "text/plain": [
       "                             Name   Price                       Instock\n",
       "0                   Sharp Objects  £47.82      \\n        In stock\\n    \n",
       "1                In a Dark, Dark   £19.63      \\n        In stock\\n    \n",
       "2             The Past Never Ends  £56.50      \\n        In stock\\n    \n",
       "3                A Murder in Time  £16.64      \\n        In stock\\n    \n",
       "4            The Murder of Roger   £44.10      \\n        In stock\\n    \n",
       "5            The Last Mile (Amos   £54.21      \\n        In stock\\n    \n",
       "6    That Darkness (Gardiner and   £13.92      \\n        In stock\\n    \n",
       "7           Tastes Like Fear (DI   £10.69      \\n        In stock\\n    \n",
       "8              A Time of Torment   £48.35      \\n        In stock\\n    \n",
       "9             A Study in Scarlet   £16.73      \\n        In stock\\n    \n",
       "10  Poisonous (Max Revere Novels   £26.80      \\n        In stock\\n    \n",
       "11            Murder at the 42nd   £54.36      \\n        In stock\\n    \n",
       "12                    Most Wanted  £35.28      \\n        In stock\\n    \n",
       "13         Hide Away (Eve Duncan   £11.84      \\n        In stock\\n    \n",
       "14      Boar Island (Anna Pigeon   £59.48      \\n        In stock\\n    \n",
       "15                      The Widow  £27.26      \\n        In stock\\n    \n",
       "16              Playing with Fire  £13.71      \\n        In stock\\n    \n",
       "17        What Happened on Beale   £25.37      \\n        In stock\\n    \n",
       "18     The Bachelor Girl's Guide   £52.30      \\n        In stock\\n    \n",
       "19  Delivering the Truth (Quaker   £20.89      \\n        In stock\\n    "
      ]
     },
     "execution_count": 41,
     "metadata": {},
     "output_type": "execute_result"
    }
   ],
   "source": [
    "book"
   ]
  },
  {
   "cell_type": "code",
   "execution_count": null,
   "id": "9fe3fba4-2251-497f-b8a4-f9789a27d46d",
   "metadata": {},
   "outputs": [],
   "source": []
  }
 ],
 "metadata": {
  "kernelspec": {
   "display_name": "Python 3 (ipykernel)",
   "language": "python",
   "name": "python3"
  },
  "language_info": {
   "codemirror_mode": {
    "name": "ipython",
    "version": 3
   },
   "file_extension": ".py",
   "mimetype": "text/x-python",
   "name": "python",
   "nbconvert_exporter": "python",
   "pygments_lexer": "ipython3",
   "version": "3.11.9"
  }
 },
 "nbformat": 4,
 "nbformat_minor": 5
}
